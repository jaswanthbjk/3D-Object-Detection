{
 "cells": [
  {
   "cell_type": "code",
   "execution_count": 51,
   "metadata": {},
   "outputs": [],
   "source": [
    "import numpy as np\n",
    "import pandas as pd\n",
    "import matplotlib.pyplot as plt\n",
    "%matplotlib inline\n",
    "from PIL import Image\n",
    "import cv2\n",
    "\n",
    "from datetime import datetime\n",
    "\n",
    "\n",
    "from lyft_dataset_sdk.lyftdataset import LyftDataset\n",
    "from lyft_dataset_sdk.utils.data_classes import LidarPointCloud, Box, Quaternion\n",
    "from lyft_dataset_sdk.utils.geometry_utils import view_points, transform_matrix"
   ]
  },
  {
   "cell_type": "code",
   "execution_count": 6,
   "metadata": {},
   "outputs": [
    {
     "name": "stdout",
     "output_type": "stream",
     "text": [
      "9 category,\n",
      "18 attribute,\n",
      "4 visibility,\n",
      "18421 instance,\n",
      "10 sensor,\n",
      "148 calibrated_sensor,\n",
      "177789 ego_pose,\n",
      "180 log,\n",
      "180 scene,\n",
      "22680 sample,\n",
      "189504 sample_data,\n",
      "638179 sample_annotation,\n",
      "1 map,\n",
      "Done loading in 18.0 seconds.\n",
      "======\n",
      "Reverse indexing ...\n",
      "Done reverse indexing in 3.4 seconds.\n",
      "======\n"
     ]
    }
   ],
   "source": [
    "level5data = LyftDataset(data_path='./', json_path='./v1.01-train/', verbose=True)"
   ]
  },
  {
   "cell_type": "code",
   "execution_count": 12,
   "metadata": {},
   "outputs": [],
   "source": [
    "records = [(level5data.get('sample', record['first_sample_token'])['timestamp'], record) for record in level5data.scene]\n",
    "entries = []"
   ]
  },
  {
   "cell_type": "code",
   "execution_count": 16,
   "metadata": {},
   "outputs": [],
   "source": [
    "for start_time, record in sorted(records):\n",
    "    start_time = level5data.get('sample', record['first_sample_token'])['timestamp'] / 1000000\n",
    "    token = record['token']\n",
    "    name = record['name']\n",
    "    date = datetime.utcfromtimestamp(start_time)\n",
    "    host = \"-\".join(record['name'].split(\"-\")[:2])\n",
    "    first_sample_token = record[\"first_sample_token\"]\n",
    "\n",
    "    entries.append((host, name, date, token, first_sample_token))"
   ]
  },
  {
   "cell_type": "code",
   "execution_count": 18,
   "metadata": {},
   "outputs": [],
   "source": [
    "df = pd.DataFrame(entries, columns=[\"host\", \"scene_name\", \"date\", \"scene_token\", \"first_sample_token\"])"
   ]
  },
  {
   "cell_type": "code",
   "execution_count": 20,
   "metadata": {
    "collapsed": true
   },
   "outputs": [
    {
     "name": "stdout",
     "output_type": "stream",
     "text": [
      "host\n",
      "host-a004    42\n",
      "host-a005     1\n",
      "host-a006     3\n",
      "host-a007    26\n",
      "host-a008     5\n",
      "host-a009     9\n",
      "host-a011    51\n",
      "host-a012     2\n",
      "host-a015     6\n",
      "host-a017     3\n",
      "host-a101    20\n",
      "host-a102    12\n",
      "Name: scene_token, dtype: int64\n"
     ]
    }
   ],
   "source": [
    "host_count_df = df.groupby(\"host\")['scene_token'].count()\n",
    "print(host_count_df)"
   ]
  },
  {
   "cell_type": "code",
   "execution_count": 30,
   "metadata": {},
   "outputs": [],
   "source": [
    "validation_hosts = [\"host-a007\", \"host-a008\", \"host-a009\"]\n",
    "\n",
    "validation_df = df[df[\"host\"].isin(validation_hosts)]\n",
    "vi = validation_df.index\n",
    "train_df = df[~df.index.isin(vi)]"
   ]
  },
  {
   "cell_type": "code",
   "execution_count": 28,
   "metadata": {},
   "outputs": [],
   "source": [
    "classes = [\"car\", \"motorcycle\", \"bus\", \"bicycle\", \"truck\", \"pedestrian\", \"other_vehicle\", \"animal\", \"emergency_vehicle\"]"
   ]
  },
  {
   "cell_type": "code",
   "execution_count": 35,
   "metadata": {},
   "outputs": [
    {
     "data": {
      "text/plain": [
       "{'CAM_BACK_RIGHT': 'cc8b48b5bc7ac966c637a75c1ca9753e0aad73b4085061500eb33c7cdd552fb3',\n",
       " 'CAM_FRONT_ZOOMED': 'ca9fe0b7b4b05add26b95a07cb15b0cee93b93bf5d77cb325da0cb2ecf2e6dc5',\n",
       " 'LIDAR_TOP': '5d6d78ab8d58702d82284d89c164311b79dbf131be93f477f0cb2fcfe673ba74',\n",
       " 'CAM_FRONT_RIGHT': '631f2a014d5b44ee322590d75d1da3487375aafeab947f654bffecbda88c44b0',\n",
       " 'CAM_BACK_LEFT': 'bc34c5c7e83561df1ad1884d8c63a992ea67b51440754aeb0198ca39a8d6d1d8',\n",
       " 'CAM_FRONT': 'b95d2f63a539fc4d5f356101dbca3ba516dba6a662140fc17ee54fddf176e80f',\n",
       " 'CAM_BACK': '247b8de08fac995483f3aa89403feee4ee2138a1b5331ac4968754bc2fe53245',\n",
       " 'CAM_FRONT_LEFT': '3fee299ccf90916993d1285d42ecce298b2148daa8b571a90ca9d2c7fc589198'}"
      ]
     },
     "execution_count": 35,
     "metadata": {},
     "output_type": "execute_result"
    }
   ],
   "source": [
    "sample_token = train_df.first_sample_token.values[0]\n",
    "sample = level5data.get(\"sample\", sample_token)"
   ]
  },
  {
   "cell_type": "code",
   "execution_count": 36,
   "metadata": {},
   "outputs": [],
   "source": [
    "sample_lidar_token = sample[\"data\"][\"LIDAR_TOP\"]\n",
    "lidar_data = level5data.get(\"sample_data\", sample_lidar_token)\n",
    "lidar_filepath = level5data.get_sample_data_path(sample_lidar_token)"
   ]
  },
  {
   "cell_type": "code",
   "execution_count": 39,
   "metadata": {},
   "outputs": [],
   "source": [
    "ego_pose = level5data.get(\"ego_pose\", lidar_data[\"ego_pose_token\"])\n",
    "calibrated_sensor = level5data.get(\"calibrated_sensor\", lidar_data[\"calibrated_sensor_token\"])"
   ]
  },
  {
   "cell_type": "code",
   "execution_count": 44,
   "metadata": {},
   "outputs": [],
   "source": [
    "global_from_car = transform_matrix(ego_pose['translation'],Quaternion(ego_pose['rotation']), inverse=False)\n",
    "car_from_sensor = transform_matrix(calibrated_sensor['translation'], Quaternion(calibrated_sensor['rotation']),inverse=False)"
   ]
  },
  {
   "cell_type": "code",
   "execution_count": 46,
   "metadata": {},
   "outputs": [],
   "source": [
    "lidar_pointcloud = LidarPointCloud.from_file(lidar_filepath)\n",
    "\n",
    "# The lidar pointcloud is defined in the sensor's reference frame.\n",
    "# We want it in the car's reference frame, so we transform each point\n",
    "lidar_pointcloud.transform(car_from_sensor)\n",
    "map_mask = level5data.map[0][\"mask\"]"
   ]
  },
  {
   "cell_type": "code",
   "execution_count": 52,
   "metadata": {},
   "outputs": [
    {
     "data": {
      "image/png": "[encoded data removed]",
      "text/plain": [
       "<Figure size 432x288 with 1 Axes>"
      ]
     },
     "metadata": {
      "needs_background": "light"
     },
     "output_type": "display_data"
    }
   ],
   "source": [
    "def get_semantic_map_around_ego(map_mask, ego_pose, voxel_size, output_shape):\n",
    "\n",
    "    def crop_image(image: np.array, x_px: int, y_px: int, axes_limit_px: int) -> np.array:\n",
    "        x_min = int(x_px - axes_limit_px)\n",
    "        x_max = int(x_px + axes_limit_px)\n",
    "        y_min = int(y_px - axes_limit_px)\n",
    "        y_max = int(y_px + axes_limit_px)\n",
    "\n",
    "        cropped_image = image[y_min:y_max, x_min:x_max]\n",
    "\n",
    "        return cropped_image\n",
    "\n",
    "    pixel_coords = map_mask.to_pixel_coords(ego_pose['translation'][0], ego_pose['translation'][1])\n",
    "\n",
    "    extent = voxel_size*output_shape[0]*0.5\n",
    "    scaled_limit_px = int(extent * (1.0 / (map_mask.resolution)))\n",
    "    mask_raster = map_mask.mask()\n",
    "\n",
    "    cropped = crop_image(mask_raster, pixel_coords[0], pixel_coords[1], int(scaled_limit_px * np.sqrt(2)))\n",
    "\n",
    "    ypr_rad = Quaternion(ego_pose['rotation']).yaw_pitch_roll\n",
    "    yaw_deg = -np.degrees(ypr_rad[0])\n",
    "\n",
    "    rotated_cropped = np.array(Image.fromarray(cropped).rotate(yaw_deg))\n",
    "    ego_centric_map = crop_image(rotated_cropped, rotated_cropped.shape[1] / 2, rotated_cropped.shape[0] / 2,\n",
    "                                 scaled_limit_px)[::-1]\n",
    "    \n",
    "    ego_centric_map = cv2.resize(ego_centric_map, output_shape[:2], cv2.INTER_NEAREST)\n",
    "    return ego_centric_map.astype(np.float32)/255\n",
    "    \n",
    "ego_centric_map = get_semantic_map_around_ego(map_mask, ego_pose, voxel_size=0.4, output_shape=(336,336)) \n",
    "plt.imshow(ego_centric_map)\n",
    "plt.show()"
   ]
  },
  {
   "cell_type": "code",
   "execution_count": null,
   "metadata": {},
   "outputs": [],
   "source": []
  },
  {
   "cell_type": "code",
   "execution_count": null,
   "metadata": {},
   "outputs": [],
   "source": []
  },
  {
   "cell_type": "code",
   "execution_count": null,
   "metadata": {},
   "outputs": [],
   "source": []
  },
  {
   "cell_type": "code",
   "execution_count": null,
   "metadata": {},
   "outputs": [],
   "source": []
  },
  {
   "cell_type": "code",
   "execution_count": null,
   "metadata": {},
   "outputs": [],
   "source": []
  },
  {
   "cell_type": "code",
   "execution_count": null,
   "metadata": {},
   "outputs": [],
   "source": []
  },
  {
   "cell_type": "code",
   "execution_count": null,
   "metadata": {},
   "outputs": [],
   "source": []
  },
  {
   "cell_type": "code",
   "execution_count": null,
   "metadata": {},
   "outputs": [],
   "source": []
  },
  {
   "cell_type": "code",
   "execution_count": null,
   "metadata": {},
   "outputs": [],
   "source": []
  },
  {
   "cell_type": "code",
   "execution_count": null,
   "metadata": {},
   "outputs": [],
   "source": []
  }
 ],
 "metadata": {
  "kernelspec": {
   "display_name": "Python 3",
   "language": "python",
   "name": "python3"
  },
  "language_info": {
   "codemirror_mode": {
    "name": "ipython",
    "version": 3
   },
   "file_extension": ".py",
   "mimetype": "text/x-python",
   "name": "python",
   "nbconvert_exporter": "python",
   "pygments_lexer": "ipython3",
   "version": "3.7.4"
  }
 },
 "nbformat": 4,
 "nbformat_minor": 2
}
